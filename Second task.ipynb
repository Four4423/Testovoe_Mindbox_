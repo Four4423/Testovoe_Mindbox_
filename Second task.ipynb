{
  "nbformat": 4,
  "nbformat_minor": 0,
  "metadata": {
    "colab": {
      "provenance": []
    },
    "kernelspec": {
      "name": "python3",
      "display_name": "Python 3"
    },
    "language_info": {
      "name": "python"
    }
  },
  "cells": [
    {
      "cell_type": "code",
      "execution_count": 1,
      "metadata": {
        "id": "VOKBDeKc_55Y"
      },
      "outputs": [],
      "source": [
        "from pyspark.sql import SparkSession"
      ]
    },
    {
      "cell_type": "code",
      "source": [
        "spark = SparkSession.builder\\\n",
        "        .master(\"local[*]\")\\\n",
        "        .appName('PySpark_Tutorial')\\\n",
        "        .getOrCreate()"
      ],
      "metadata": {
        "id": "ru9PJitq_-Gs"
      },
      "execution_count": 2,
      "outputs": []
    },
    {
      "cell_type": "code",
      "source": [
        "from pyspark.sql import SparkSession\n",
        "from pyspark.sql.functions import col\n",
        "\n",
        "data_products = [(1, 'Молоко'), (2, 'Хлеб'), (3, 'Кофе')]\n",
        "columns_products = ['id', 'product_name']\n",
        "products_df = spark.createDataFrame(data=data_products, schema=columns_products)\n",
        "\n",
        "data_categories = [(10, 'Молочные продукты'), (20, 'Еда')]\n",
        "columns_categories = ['category_id', 'category_name']\n",
        "categories_df = spark.createDataFrame(data=data_categories, schema=columns_categories)\n",
        "\n",
        "data_links = [(1, 10), (2, 20)]\n",
        "columns_links = ['product_id', 'category_id']\n",
        "links_df = spark.createDataFrame(data=data_links, schema=columns_links)\n",
        "\n",
        "joined_df = (\n",
        "    products_df.join(links_df, products_df.id == links_df.product_id, how='left')\n",
        "               .join(categories_df, links_df.category_id == categories_df.category_id, how='left')\n",
        "               .select(\n",
        "                   products_df['product_name'].alias('product'),\n",
        "                   categories_df['category_name'].alias('category'))\n",
        ")\n",
        "\n",
        "joined_df.show(truncate=False)"
      ],
      "metadata": {
        "colab": {
          "base_uri": "https://localhost:8080/"
        },
        "id": "yYrtAasdACwB",
        "outputId": "af157fdb-f531-46a5-f0d3-7e2b588487c5"
      },
      "execution_count": 8,
      "outputs": [
        {
          "output_type": "stream",
          "name": "stdout",
          "text": [
            "+-------+-----------------+\n",
            "|product|category         |\n",
            "+-------+-----------------+\n",
            "|Молоко |Молочные продукты|\n",
            "|Кофе   |NULL             |\n",
            "|Хлеб   |Еда              |\n",
            "+-------+-----------------+\n",
            "\n"
          ]
        }
      ]
    },
    {
      "cell_type": "code",
      "source": [],
      "metadata": {
        "id": "Ysi0KCk7AKwG"
      },
      "execution_count": null,
      "outputs": []
    }
  ]
}